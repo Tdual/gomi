{
 "cells": [
  {
   "cell_type": "code",
   "execution_count": 1,
   "metadata": {
    "collapsed": true
   },
   "outputs": [],
   "source": [
    "import tensorflow as tf"
   ]
  },
  {
   "cell_type": "code",
   "execution_count": 2,
   "metadata": {
    "collapsed": false
   },
   "outputs": [
    {
     "name": "stdout",
     "output_type": "stream",
     "text": [
      "Tensor(\"MatMul:0\", shape=(3, 1), dtype=int32)\n"
     ]
    }
   ],
   "source": [
    "w = [[1,2,3],[4,5,6],[7,8,9]]\n",
    "x = [[1],[2],[3]]\n",
    "\n",
    "W = tf.Variable(w, \"int32\")\n",
    "X = tf.Variable(x, \"int32\")\n",
    "\n",
    "\n",
    "y = tf.matmul(W,x)\n",
    "print (y)"
   ]
  },
  {
   "cell_type": "code",
   "execution_count": 3,
   "metadata": {
    "collapsed": false,
    "scrolled": true
   },
   "outputs": [
    {
     "name": "stdout",
     "output_type": "stream",
     "text": [
      "[[14]\n",
      " [32]\n",
      " [50]]\n"
     ]
    }
   ],
   "source": [
    "with tf.Session() as sess:\n",
    "    sess.run(tf.initialize_all_variables())\n",
    "    result = sess.run(y)\n",
    "print (result)"
   ]
  },
  {
   "cell_type": "code",
   "execution_count": 4,
   "metadata": {
    "collapsed": false
   },
   "outputs": [
    {
     "name": "stdout",
     "output_type": "stream",
     "text": [
      "[[14]\n",
      " [32]\n",
      " [50]],[[0]\n",
      " [0]\n",
      " [0]],[[ 6]\n",
      " [15]\n",
      " [24]]\n"
     ]
    }
   ],
   "source": [
    "w = [[1,2,3],[4,5,6],[7,8,9]]\n",
    "x0 = [[1],[2],[3]]\n",
    "x1 = [[0],[0],[0]]\n",
    "x2 = [[1],[1],[1]]\n",
    "vectors =[x0,x1,x2]\n",
    "\n",
    "W = tf.Variable(w, \"int32\")\n",
    "x_ph = tf.placeholder(\"int32\", [3,1])\n",
    "\n",
    "y2 = tf.matmul(W, x_ph)\n",
    "\n",
    "result_list = []\n",
    "with tf.Session() as sess2:\n",
    "    sess2.run(tf.initialize_all_variables())\n",
    "    for v in vectors:\n",
    "        result_list.append(sess2.run(y2,feed_dict={x_ph: v}))\n",
    "\n",
    "print (\"{},{},{}\".format(*result_list))"
   ]
  },
  {
   "cell_type": "markdown",
   "metadata": {},
   "source": [
    "### 学習内容 ###\n",
    "- ねこ　ー＞　にゃーん\n",
    "- いぬ　ー＞　わんわん\n",
    "- うさぎ　ー＞　・・・。\n",
    "\n",
    "を学習させる。\n"
   ]
  },
  {
   "cell_type": "code",
   "execution_count": 56,
   "metadata": {
    "collapsed": false
   },
   "outputs": [],
   "source": [
    "cat = [[1.],[0.],[0.]]\n",
    "dog = [[0.],[1.],[0.]]\n",
    "rabbit= [[0.],[0.],[1.]]\n",
    "\n",
    "nyan =  [[1.],[0.],[0.]]\n",
    "wan =  [[0.],[1.],[0.]]\n",
    "silent = [[0.],[0.],[1.]]\n",
    "\n",
    "data_set = [(cat,nyan)]*500 +[(dog,wan)]*500+[(rabbit, silent)]*500\n",
    "data_set\n",
    "import random\n",
    "random.shuffle(data_set)"
   ]
  },
  {
   "cell_type": "code",
   "execution_count": 57,
   "metadata": {
    "collapsed": false
   },
   "outputs": [
    {
     "name": "stdout",
     "output_type": "stream",
     "text": [
      "0回目のエラー関数の値: 0.9604000449180603\n",
      "100回目のエラー関数の値: 0.22424866259098053\n",
      "200回目のエラー関数の値: 0.06154582276940346\n",
      "300回目のエラー関数の値: 0.0190682765096426\n",
      "400回目のエラー関数の値: 0.0041066971607506275\n",
      "500回目のエラー関数の値: 0.0013248182367533445\n",
      "600回目のエラー関数の値: 0.00024274192401207983\n",
      "700回目のエラー関数の値: 7.222939893836156e-05\n",
      "800回目のエラー関数の値: 1.619712566025555e-05\n",
      "900回目のエラー関数の値: 5.440040240500821e-06\n",
      "1000回目のエラー関数の値: 1.0804467365232995e-06\n",
      "1100回目のエラー関数の値: 3.7785940776302596e-07\n",
      "1200回目のエラー関数の値: 9.960752578308529e-08\n",
      "1300回目のエラー関数の値: 2.0583176052468843e-08\n",
      "1400回目のエラー関数の値: 7.2041075327433646e-09\n",
      "[[ 0.99995899  0.          0.        ]\n",
      " [ 0.          0.99995899  0.        ]\n",
      " [ 0.          0.          0.99995899]]\n"
     ]
    }
   ],
   "source": [
    "w = [[0.,0.,0.],[0.,0.,0.],[0.,0.,0.]]\n",
    "W = tf.Variable(w, \"float\")\n",
    "x = tf.placeholder(tf.float32, [3,1])\n",
    "y = tf.matmul(W,x)\n",
    "y_ = tf.placeholder(tf.float32, [3,1])\n",
    "\n",
    "cost = tf.reduce_sum(tf.pow(y - y_, 2))\n",
    "\n",
    "train_step = tf.train.GradientDescentOptimizer(0.01).minimize(cost)\n",
    "\n",
    "\n",
    "with tf.Session() as sess:\n",
    "    sess.run(tf.initialize_all_variables())\n",
    "    for i in range(len(data_set)):\n",
    "        sess.run(train_step, feed_dict={x: data_set[i][0], y_: data_set[i][1]})\n",
    "        if i % 100 == 0:\n",
    "            error = sess.run(cost,feed_dict={x: data_set[i][0], y_: data_set[i][1]})\n",
    "            print (\"{}回目のエラー関数の値: {}\".format(i,error))\n",
    "    w_result = sess.run(W)\n",
    "\n",
    "print(w_result)"
   ]
  },
  {
   "cell_type": "code",
   "execution_count": null,
   "metadata": {
    "collapsed": true
   },
   "outputs": [],
   "source": []
  }
 ],
 "metadata": {
  "anaconda-cloud": {},
  "kernelspec": {
   "display_name": "Python [conda env:py35]",
   "language": "python",
   "name": "conda-env-py35-py"
  },
  "language_info": {
   "codemirror_mode": {
    "name": "ipython",
    "version": 3
   },
   "file_extension": ".py",
   "mimetype": "text/x-python",
   "name": "python",
   "nbconvert_exporter": "python",
   "pygments_lexer": "ipython3",
   "version": "3.5.2"
  }
 },
 "nbformat": 4,
 "nbformat_minor": 1
}
