{
 "cells": [
  {
   "cell_type": "code",
   "execution_count": 42,
   "metadata": {
    "collapsed": true
   },
   "outputs": [],
   "source": [
    "import tensorflow as tf"
   ]
  },
  {
   "cell_type": "code",
   "execution_count": 43,
   "metadata": {
    "collapsed": false
   },
   "outputs": [
    {
     "name": "stdout",
     "output_type": "stream",
     "text": [
      "Tensor(\"MatMul_29:0\", shape=(3, 1), dtype=int32)\n"
     ]
    }
   ],
   "source": [
    "w = [[1,2,3],[4,5,6],[7,8,9]]\n",
    "x = [[1],[2],[3]]\n",
    "\n",
    "W = tf.Variable(w, \"int32\")\n",
    "X = tf.Variable(x, \"int32\")\n",
    "\n",
    "\n",
    "y = tf.matmul(W,x)\n",
    "print (y)"
   ]
  },
  {
   "cell_type": "code",
   "execution_count": 44,
   "metadata": {
    "collapsed": false,
    "scrolled": true
   },
   "outputs": [
    {
     "name": "stdout",
     "output_type": "stream",
     "text": [
      "[[14]\n",
      " [32]\n",
      " [50]]\n"
     ]
    }
   ],
   "source": [
    "with tf.Session() as sess:\n",
    "    sess.run(tf.initialize_all_variables())\n",
    "    result = sess.run(y)\n",
    "print (result)"
   ]
  },
  {
   "cell_type": "code",
   "execution_count": 45,
   "metadata": {
    "collapsed": false
   },
   "outputs": [
    {
     "name": "stdout",
     "output_type": "stream",
     "text": [
      "[[14]\n",
      " [32]\n",
      " [50]],[[0]\n",
      " [0]\n",
      " [0]],[[ 6]\n",
      " [15]\n",
      " [24]]\n"
     ]
    }
   ],
   "source": [
    "w = [[1,2,3],[4,5,6],[7,8,9]]\n",
    "x0 = [[1],[2],[3]]\n",
    "x1 = [[0],[0],[0]]\n",
    "x2 = [[1],[1],[1]]\n",
    "vectors =[x0,x1,x2]\n",
    "\n",
    "W = tf.Variable(w, \"int32\")\n",
    "x_ph = tf.placeholder(\"int32\", [3,1])\n",
    "\n",
    "y2 = tf.matmul(W, x_ph)\n",
    "\n",
    "result_list = []\n",
    "with tf.Session() as sess2:\n",
    "    sess2.run(tf.initialize_all_variables())\n",
    "    for v in vectors:\n",
    "        result_list.append(sess2.run(y2,feed_dict={x_ph: v}))\n",
    "\n",
    "print (\"{},{},{}\".format(*result_list))"
   ]
  },
  {
   "cell_type": "markdown",
   "metadata": {},
   "source": [
    "### 学習内容 ###\n",
    "- ねこ　ー＞　にゃーん\n",
    "- いぬ　ー＞　わんわん\n",
    "- うさぎ　ー＞　・・・。\n",
    "\n",
    "を学習させる。\n"
   ]
  },
  {
   "cell_type": "code",
   "execution_count": 47,
   "metadata": {
    "collapsed": false
   },
   "outputs": [
    {
     "ename": "NameError",
     "evalue": "name 'training_classes_tf' is not defined",
     "output_type": "error",
     "traceback": [
      "\u001b[0;31m---------------------------------------------------------------------------\u001b[0m",
      "\u001b[0;31mNameError\u001b[0m                                 Traceback (most recent call last)",
      "\u001b[0;32m<ipython-input-47-419e978d04fc>\u001b[0m in \u001b[0;36m<module>\u001b[0;34m()\u001b[0m\n\u001b[1;32m      8\u001b[0m \u001b[0;34m\u001b[0m\u001b[0m\n\u001b[1;32m      9\u001b[0m \u001b[0;34m\u001b[0m\u001b[0m\n\u001b[0;32m---> 10\u001b[0;31m \u001b[0mnum_classes\u001b[0m \u001b[0;34m=\u001b[0m \u001b[0mlen\u001b[0m\u001b[0;34m(\u001b[0m\u001b[0mtraining_classes_tf\u001b[0m\u001b[0;34m.\u001b[0m\u001b[0mcolumns\u001b[0m\u001b[0;34m)\u001b[0m\u001b[0;34m\u001b[0m\u001b[0m\n\u001b[0m\u001b[1;32m     11\u001b[0m \u001b[0;32mprint\u001b[0m\u001b[0;34m(\u001b[0m\u001b[0;34m\"num_predictor: {}\"\u001b[0m\u001b[0;34m.\u001b[0m\u001b[0mformat\u001b[0m\u001b[0;34m(\u001b[0m \u001b[0mnum_predictors\u001b[0m\u001b[0;34m)\u001b[0m\u001b[0;34m)\u001b[0m\u001b[0;34m\u001b[0m\u001b[0m\n\u001b[1;32m     12\u001b[0m \u001b[0;32mprint\u001b[0m\u001b[0;34m(\u001b[0m\u001b[0;34m\"num_classes: {}\"\u001b[0m\u001b[0;34m.\u001b[0m\u001b[0mformat\u001b[0m\u001b[0;34m(\u001b[0m \u001b[0mnum_classes\u001b[0m\u001b[0;34m)\u001b[0m\u001b[0;34m)\u001b[0m\u001b[0;34m\u001b[0m\u001b[0m\n",
      "\u001b[0;31mNameError\u001b[0m: name 'training_classes_tf' is not defined"
     ]
    }
   ],
   "source": [
    "import tensorflow as tf\n",
    "\n",
    "keep_prob = 1.0\n",
    "hidden_num1 = 50\n",
    "hidden_num2 = 25\n",
    "learning_rate=0.0005\n",
    "save_dir = \"/share/var/tensorboard\"\n",
    "\n",
    "\n",
    "num_classes = len(training_classes_tf.columns)\n",
    "print(\"num_predictor: {}\".format( num_predictors))\n",
    "print(\"num_classes: {}\".format( num_classes))\n",
    "\n",
    "\n",
    "\n",
    "with tf.Graph().as_default():\n",
    "    sess1 = tf.Session()\n",
    "\n",
    "    feature_data = tf.placeholder(\"float\", [None, num_predictors])\n",
    "    actual_classes = tf.placeholder(\"float\", [None, num_classes])\n",
    "\n",
    "    with tf.name_scope('hidden1'):\n",
    "        weights1 = tf.Variable(tf.truncated_normal([num_predictors, hidden_num1], stddev=0.0001))\n",
    "        biases1 = tf.Variable(tf.ones([hidden_num1]))\n",
    "        hidden_layer_1 = tf.nn.relu(tf.matmul(feature_data, weights1) + biases1)\n",
    "\n",
    "    with tf.name_scope(\"hidden2\"):\n",
    "        weights2 = tf.Variable(tf.truncated_normal([hidden_num1, hidden_num2], stddev=0.0001))\n",
    "        biases2 = tf.Variable(tf.ones([hidden_num2]))\n",
    "        hidden_layer_2 = tf.nn.relu(tf.matmul(hidden_layer_1, weights2) + biases2)\n",
    "\n",
    "    dropout = tf.nn.dropout(hidden_layer_2, keep_prob)\n",
    "\n",
    "    with tf.name_scope(\"softmax\"):\n",
    "        weights3 = tf.Variable(tf.truncated_normal([hidden_num2, num_classes], stddev=0.0001))\n",
    "        biases3 = tf.Variable(tf.ones([num_classes]))\n",
    "        model = tf.nn.softmax(tf.matmul(dropout, weights3) + biases3)\n",
    "\n",
    "    cost = -tf.reduce_sum(actual_classes*tf.log(tf.clip_by_value(model,1e-10,1.0)))\n",
    "\n",
    "    train_op1 = tf.train.AdamOptimizer(learning_rate=learning_rate).minimize(cost)\n",
    "\n",
    "    init = tf.initialize_all_variables()\n",
    "    sess1.run(init)\n",
    "    \n",
    "    correct_prediction = tf.equal(tf.argmax(model, 1), tf.argmax(actual_classes, 1))\n",
    "    accuracy = tf.reduce_mean(tf.cast(correct_prediction, \"float\"))\n",
    "\n",
    "    tf.scalar_summary(\"cross_entropy\", cost)\n",
    "    tf.scalar_summary(\"accuracy\", accuracy)\n",
    "    \n",
    "    summary_op = tf.merge_all_summaries()\n",
    "    summary_writer = tf.train.SummaryWriter(save_dir, sess1.graph)\n",
    "    for i in range(1, 3000001):\n",
    "        sess1.run(\n",
    "            train_op1, \n",
    "            feed_dict={\n",
    "              feature_data: training_predictors_tf.values, \n",
    "              actual_classes: training_classes_tf.values.reshape(len(training_classes_tf.values), 2)\n",
    "            }\n",
    "        )\n",
    "        if i%5000 == 0:\n",
    "            accuracy_value, cost_value = sess1.run([accuracy,cost],\n",
    "                feed_dict={\n",
    "                    feature_data: training_predictors_tf.values, \n",
    "                    actual_classes: training_classes_tf.values.reshape(len(training_classes_tf.values), 2)\n",
    "                  }\n",
    "            )\n",
    "            print( \"{} :{} : {}\".format(i, accuracy_value, cost_value))\n",
    "        \n",
    "            summary_str = sess1.run(summary_op, \n",
    "                feed_dict={\n",
    "                    feature_data: training_predictors_tf.values, \n",
    "                    actual_classes: training_classes_tf.values.reshape(len(training_classes_tf.values), 2)\n",
    "                }\n",
    "            )\n",
    "            summary_writer.add_summary(summary_str, i)"
   ]
  },
  {
   "cell_type": "code",
   "execution_count": null,
   "metadata": {
    "collapsed": true
   },
   "outputs": [],
   "source": [
    "w = [[0,0,0],[0,0,0],[0,0,0]]\n",
    "W = tf.Variable(\"float\", )\n",
    "with tf.Sesion as sess:\n",
    "    \n",
    "    "
   ]
  }
 ],
 "metadata": {
  "anaconda-cloud": {},
  "kernelspec": {
   "display_name": "Python [conda env:py2.7]",
   "language": "python",
   "name": "conda-env-py2.7-py"
  },
  "language_info": {
   "codemirror_mode": {
    "name": "ipython",
    "version": 2
   },
   "file_extension": ".py",
   "mimetype": "text/x-python",
   "name": "python",
   "nbconvert_exporter": "python",
   "pygments_lexer": "ipython2",
   "version": "2.7.12"
  }
 },
 "nbformat": 4,
 "nbformat_minor": 1
}
